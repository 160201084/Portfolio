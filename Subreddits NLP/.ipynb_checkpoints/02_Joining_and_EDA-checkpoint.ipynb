{
 "cells": [
  {
   "cell_type": "markdown",
   "metadata": {},
   "source": [
    "### Reading the subreddits, joining them with concat and doing some EDA"
   ]
  },
  {
   "cell_type": "code",
   "execution_count": 2,
   "metadata": {
    "scrolled": true
   },
   "outputs": [],
   "source": [
    "math = pd.read_csv('./data/math.csv')"
   ]
  },
  {
   "cell_type": "code",
   "execution_count": 3,
   "metadata": {},
   "outputs": [],
   "source": [
    "physics = pd.read_csv('./data/physics.csv')"
   ]
  },
  {
   "cell_type": "code",
   "execution_count": 4,
   "metadata": {},
   "outputs": [],
   "source": [
    "askphysics = pd.read_csv('./data/askphysics.csv')"
   ]
  },
  {
   "cell_type": "code",
   "execution_count": 5,
   "metadata": {},
   "outputs": [],
   "source": [
    "frames = [math, physics, askphysics]   # Creating a list of dataframes"
   ]
  },
  {
   "cell_type": "code",
   "execution_count": 6,
   "metadata": {},
   "outputs": [],
   "source": [
    "df = pd.concat(frames, ignore_index=True)   # Concatinating dataframes"
   ]
  },
  {
   "cell_type": "code",
   "execution_count": 7,
   "metadata": {},
   "outputs": [],
   "source": [
    "# Dropping unnecesary columns \n",
    "data = df.drop(columns=['created_utc', 'author', 'num_comments', 'score', 'is_self', 'timestamp'])"
   ]
  },
  {
   "cell_type": "code",
   "execution_count": 8,
   "metadata": {},
   "outputs": [],
   "source": [
    "data['post'] = data['title'] +' '+ data['selftext']  # joining title and text"
   ]
  },
  {
   "cell_type": "code",
   "execution_count": 9,
   "metadata": {},
   "outputs": [
    {
     "data": {
      "text/plain": [
       "'looking for a specific non-linear function of two random variable I am looking for a monotonically increasing function F(x,y)→\\\\[0,1\\\\]. Assuming that x∈\\\\[0,+∞) and y∈\\\\[0,1\\\\].\\n\\nI expect the function to have a hyperparameter that allows me to specify the importance (or weight) of x and y.'"
      ]
     },
     "execution_count": 9,
     "metadata": {},
     "output_type": "execute_result"
    }
   ],
   "source": [
    "data['post'][0]"
   ]
  },
  {
   "cell_type": "code",
   "execution_count": 10,
   "metadata": {},
   "outputs": [],
   "source": [
    "data = data.drop(columns=['title', 'selftext'])"
   ]
  },
  {
   "cell_type": "code",
   "execution_count": 11,
   "metadata": {},
   "outputs": [
    {
     "data": {
      "text/html": [
       "<div>\n",
       "<style scoped>\n",
       "    .dataframe tbody tr th:only-of-type {\n",
       "        vertical-align: middle;\n",
       "    }\n",
       "\n",
       "    .dataframe tbody tr th {\n",
       "        vertical-align: top;\n",
       "    }\n",
       "\n",
       "    .dataframe thead th {\n",
       "        text-align: right;\n",
       "    }\n",
       "</style>\n",
       "<table border=\"1\" class=\"dataframe\">\n",
       "  <thead>\n",
       "    <tr style=\"text-align: right;\">\n",
       "      <th></th>\n",
       "      <th>subreddit</th>\n",
       "      <th>post</th>\n",
       "    </tr>\n",
       "  </thead>\n",
       "  <tbody>\n",
       "    <tr>\n",
       "      <td>0</td>\n",
       "      <td>math</td>\n",
       "      <td>looking for a specific non-linear function of ...</td>\n",
       "    </tr>\n",
       "    <tr>\n",
       "      <td>1</td>\n",
       "      <td>math</td>\n",
       "      <td>Pattern recognition in Trig Substitution based...</td>\n",
       "    </tr>\n",
       "    <tr>\n",
       "      <td>2</td>\n",
       "      <td>math</td>\n",
       "      <td>No clue how to solve this please help! :) I am...</td>\n",
       "    </tr>\n",
       "    <tr>\n",
       "      <td>3</td>\n",
       "      <td>math</td>\n",
       "      <td>Why cant my mind understand math? Hi\\n\\nI have...</td>\n",
       "    </tr>\n",
       "    <tr>\n",
       "      <td>4</td>\n",
       "      <td>math</td>\n",
       "      <td>I haven't touched math in over a year.. As the...</td>\n",
       "    </tr>\n",
       "    <tr>\n",
       "      <td>...</td>\n",
       "      <td>...</td>\n",
       "      <td>...</td>\n",
       "    </tr>\n",
       "    <tr>\n",
       "      <td>179809</td>\n",
       "      <td>AskPhysics</td>\n",
       "      <td>Does anyone know where I can get a font with m...</td>\n",
       "    </tr>\n",
       "    <tr>\n",
       "      <td>179810</td>\n",
       "      <td>AskPhysics</td>\n",
       "      <td>If light is the quanta of electromagnetism, wo...</td>\n",
       "    </tr>\n",
       "    <tr>\n",
       "      <td>179811</td>\n",
       "      <td>AskPhysics</td>\n",
       "      <td>please explain the different philosophical imp...</td>\n",
       "    </tr>\n",
       "    <tr>\n",
       "      <td>179812</td>\n",
       "      <td>AskPhysics</td>\n",
       "      <td>Why is it difficult to gauge the speed of an i...</td>\n",
       "    </tr>\n",
       "    <tr>\n",
       "      <td>179813</td>\n",
       "      <td>AskPhysics</td>\n",
       "      <td>How does the applied voltage across a photomul...</td>\n",
       "    </tr>\n",
       "  </tbody>\n",
       "</table>\n",
       "<p>179814 rows × 2 columns</p>\n",
       "</div>"
      ],
      "text/plain": [
       "         subreddit                                               post\n",
       "0             math  looking for a specific non-linear function of ...\n",
       "1             math  Pattern recognition in Trig Substitution based...\n",
       "2             math  No clue how to solve this please help! :) I am...\n",
       "3             math  Why cant my mind understand math? Hi\\n\\nI have...\n",
       "4             math  I haven't touched math in over a year.. As the...\n",
       "...            ...                                                ...\n",
       "179809  AskPhysics  Does anyone know where I can get a font with m...\n",
       "179810  AskPhysics  If light is the quanta of electromagnetism, wo...\n",
       "179811  AskPhysics  please explain the different philosophical imp...\n",
       "179812  AskPhysics  Why is it difficult to gauge the speed of an i...\n",
       "179813  AskPhysics  How does the applied voltage across a photomul...\n",
       "\n",
       "[179814 rows x 2 columns]"
      ]
     },
     "execution_count": 11,
     "metadata": {},
     "output_type": "execute_result"
    }
   ],
   "source": [
    "data"
   ]
  },
  {
   "cell_type": "code",
   "execution_count": 12,
   "metadata": {
    "scrolled": true
   },
   "outputs": [],
   "source": [
    "data.dropna(inplace=True)   # Getting rid of nulls"
   ]
  },
  {
   "cell_type": "code",
   "execution_count": 13,
   "metadata": {},
   "outputs": [
    {
     "data": {
      "text/html": [
       "<div>\n",
       "<style scoped>\n",
       "    .dataframe tbody tr th:only-of-type {\n",
       "        vertical-align: middle;\n",
       "    }\n",
       "\n",
       "    .dataframe tbody tr th {\n",
       "        vertical-align: top;\n",
       "    }\n",
       "\n",
       "    .dataframe thead th {\n",
       "        text-align: right;\n",
       "    }\n",
       "</style>\n",
       "<table border=\"1\" class=\"dataframe\">\n",
       "  <thead>\n",
       "    <tr style=\"text-align: right;\">\n",
       "      <th></th>\n",
       "      <th>subreddit</th>\n",
       "      <th>post</th>\n",
       "    </tr>\n",
       "  </thead>\n",
       "  <tbody>\n",
       "    <tr>\n",
       "      <td>0</td>\n",
       "      <td>math</td>\n",
       "      <td>looking for a specific non-linear function of ...</td>\n",
       "    </tr>\n",
       "    <tr>\n",
       "      <td>1</td>\n",
       "      <td>math</td>\n",
       "      <td>Pattern recognition in Trig Substitution based...</td>\n",
       "    </tr>\n",
       "    <tr>\n",
       "      <td>2</td>\n",
       "      <td>math</td>\n",
       "      <td>No clue how to solve this please help! :) I am...</td>\n",
       "    </tr>\n",
       "    <tr>\n",
       "      <td>3</td>\n",
       "      <td>math</td>\n",
       "      <td>Why cant my mind understand math? Hi\\n\\nI have...</td>\n",
       "    </tr>\n",
       "    <tr>\n",
       "      <td>4</td>\n",
       "      <td>math</td>\n",
       "      <td>I haven't touched math in over a year.. As the...</td>\n",
       "    </tr>\n",
       "    <tr>\n",
       "      <td>...</td>\n",
       "      <td>...</td>\n",
       "      <td>...</td>\n",
       "    </tr>\n",
       "    <tr>\n",
       "      <td>179809</td>\n",
       "      <td>AskPhysics</td>\n",
       "      <td>Does anyone know where I can get a font with m...</td>\n",
       "    </tr>\n",
       "    <tr>\n",
       "      <td>179810</td>\n",
       "      <td>AskPhysics</td>\n",
       "      <td>If light is the quanta of electromagnetism, wo...</td>\n",
       "    </tr>\n",
       "    <tr>\n",
       "      <td>179811</td>\n",
       "      <td>AskPhysics</td>\n",
       "      <td>please explain the different philosophical imp...</td>\n",
       "    </tr>\n",
       "    <tr>\n",
       "      <td>179812</td>\n",
       "      <td>AskPhysics</td>\n",
       "      <td>Why is it difficult to gauge the speed of an i...</td>\n",
       "    </tr>\n",
       "    <tr>\n",
       "      <td>179813</td>\n",
       "      <td>AskPhysics</td>\n",
       "      <td>How does the applied voltage across a photomul...</td>\n",
       "    </tr>\n",
       "  </tbody>\n",
       "</table>\n",
       "<p>162383 rows × 2 columns</p>\n",
       "</div>"
      ],
      "text/plain": [
       "         subreddit                                               post\n",
       "0             math  looking for a specific non-linear function of ...\n",
       "1             math  Pattern recognition in Trig Substitution based...\n",
       "2             math  No clue how to solve this please help! :) I am...\n",
       "3             math  Why cant my mind understand math? Hi\\n\\nI have...\n",
       "4             math  I haven't touched math in over a year.. As the...\n",
       "...            ...                                                ...\n",
       "179809  AskPhysics  Does anyone know where I can get a font with m...\n",
       "179810  AskPhysics  If light is the quanta of electromagnetism, wo...\n",
       "179811  AskPhysics  please explain the different philosophical imp...\n",
       "179812  AskPhysics  Why is it difficult to gauge the speed of an i...\n",
       "179813  AskPhysics  How does the applied voltage across a photomul...\n",
       "\n",
       "[162383 rows x 2 columns]"
      ]
     },
     "execution_count": 13,
     "metadata": {},
     "output_type": "execute_result"
    }
   ],
   "source": [
    "data"
   ]
  },
  {
   "cell_type": "code",
   "execution_count": 14,
   "metadata": {
    "scrolled": true
   },
   "outputs": [
    {
     "data": {
      "text/plain": [
       "math               80243\n",
       "AskPhysics         48235\n",
       "Physics            33896\n",
       "[deleted]              1\n",
       "greedcrow              1\n",
       "Demroz                 1\n",
       "lryuzakilawliet        1\n",
       "johnahh                1\n",
       "alexcprn               1\n",
       "KoiBee                 1\n",
       "SilentSongs            1\n",
       "Reborntkh              1\n",
       "Name: subreddit, dtype: int64"
      ]
     },
     "execution_count": 14,
     "metadata": {},
     "output_type": "execute_result"
    }
   ],
   "source": [
    "data['subreddit'].value_counts()   "
   ]
  },
  {
   "cell_type": "code",
   "execution_count": 15,
   "metadata": {
    "scrolled": true
   },
   "outputs": [],
   "source": [
    "# Changing target column to binary\n",
    "data['subreddit'] = data['subreddit'].map({'math':1, 'Physics':0, 'AskPhysics':0})"
   ]
  },
  {
   "cell_type": "code",
   "execution_count": 16,
   "metadata": {},
   "outputs": [
    {
     "data": {
      "text/plain": [
       "0.0    82131\n",
       "1.0    80243\n",
       "Name: subreddit, dtype: int64"
      ]
     },
     "execution_count": 16,
     "metadata": {},
     "output_type": "execute_result"
    }
   ],
   "source": [
    "data['subreddit'].value_counts()"
   ]
  },
  {
   "cell_type": "code",
   "execution_count": 17,
   "metadata": {},
   "outputs": [
    {
     "data": {
      "text/plain": [
       "subreddit    9\n",
       "post         0\n",
       "dtype: int64"
      ]
     },
     "execution_count": 17,
     "metadata": {},
     "output_type": "execute_result"
    }
   ],
   "source": [
    "data.isnull().sum()   # Checking subreddits that got through the cracks"
   ]
  },
  {
   "cell_type": "code",
   "execution_count": 18,
   "metadata": {},
   "outputs": [],
   "source": [
    "data.dropna(inplace=True)    # Dropping subreddits that got through the cracks"
   ]
  },
  {
   "cell_type": "code",
   "execution_count": 19,
   "metadata": {},
   "outputs": [
    {
     "data": {
      "text/html": [
       "<div>\n",
       "<style scoped>\n",
       "    .dataframe tbody tr th:only-of-type {\n",
       "        vertical-align: middle;\n",
       "    }\n",
       "\n",
       "    .dataframe tbody tr th {\n",
       "        vertical-align: top;\n",
       "    }\n",
       "\n",
       "    .dataframe thead th {\n",
       "        text-align: right;\n",
       "    }\n",
       "</style>\n",
       "<table border=\"1\" class=\"dataframe\">\n",
       "  <thead>\n",
       "    <tr style=\"text-align: right;\">\n",
       "      <th></th>\n",
       "      <th>subreddit</th>\n",
       "      <th>post</th>\n",
       "    </tr>\n",
       "  </thead>\n",
       "  <tbody>\n",
       "    <tr>\n",
       "      <td>0</td>\n",
       "      <td>1.0</td>\n",
       "      <td>looking for a specific non-linear function of ...</td>\n",
       "    </tr>\n",
       "    <tr>\n",
       "      <td>1</td>\n",
       "      <td>1.0</td>\n",
       "      <td>Pattern recognition in Trig Substitution based...</td>\n",
       "    </tr>\n",
       "    <tr>\n",
       "      <td>2</td>\n",
       "      <td>1.0</td>\n",
       "      <td>No clue how to solve this please help! :) I am...</td>\n",
       "    </tr>\n",
       "    <tr>\n",
       "      <td>3</td>\n",
       "      <td>1.0</td>\n",
       "      <td>Why cant my mind understand math? Hi\\n\\nI have...</td>\n",
       "    </tr>\n",
       "    <tr>\n",
       "      <td>4</td>\n",
       "      <td>1.0</td>\n",
       "      <td>I haven't touched math in over a year.. As the...</td>\n",
       "    </tr>\n",
       "    <tr>\n",
       "      <td>...</td>\n",
       "      <td>...</td>\n",
       "      <td>...</td>\n",
       "    </tr>\n",
       "    <tr>\n",
       "      <td>179809</td>\n",
       "      <td>0.0</td>\n",
       "      <td>Does anyone know where I can get a font with m...</td>\n",
       "    </tr>\n",
       "    <tr>\n",
       "      <td>179810</td>\n",
       "      <td>0.0</td>\n",
       "      <td>If light is the quanta of electromagnetism, wo...</td>\n",
       "    </tr>\n",
       "    <tr>\n",
       "      <td>179811</td>\n",
       "      <td>0.0</td>\n",
       "      <td>please explain the different philosophical imp...</td>\n",
       "    </tr>\n",
       "    <tr>\n",
       "      <td>179812</td>\n",
       "      <td>0.0</td>\n",
       "      <td>Why is it difficult to gauge the speed of an i...</td>\n",
       "    </tr>\n",
       "    <tr>\n",
       "      <td>179813</td>\n",
       "      <td>0.0</td>\n",
       "      <td>How does the applied voltage across a photomul...</td>\n",
       "    </tr>\n",
       "  </tbody>\n",
       "</table>\n",
       "<p>162374 rows × 2 columns</p>\n",
       "</div>"
      ],
      "text/plain": [
       "        subreddit                                               post\n",
       "0             1.0  looking for a specific non-linear function of ...\n",
       "1             1.0  Pattern recognition in Trig Substitution based...\n",
       "2             1.0  No clue how to solve this please help! :) I am...\n",
       "3             1.0  Why cant my mind understand math? Hi\\n\\nI have...\n",
       "4             1.0  I haven't touched math in over a year.. As the...\n",
       "...           ...                                                ...\n",
       "179809        0.0  Does anyone know where I can get a font with m...\n",
       "179810        0.0  If light is the quanta of electromagnetism, wo...\n",
       "179811        0.0  please explain the different philosophical imp...\n",
       "179812        0.0  Why is it difficult to gauge the speed of an i...\n",
       "179813        0.0  How does the applied voltage across a photomul...\n",
       "\n",
       "[162374 rows x 2 columns]"
      ]
     },
     "execution_count": 19,
     "metadata": {},
     "output_type": "execute_result"
    }
   ],
   "source": [
    "data"
   ]
  },
  {
   "cell_type": "code",
   "execution_count": 20,
   "metadata": {},
   "outputs": [
    {
     "data": {
      "text/plain": [
       "subreddit    0\n",
       "post         0\n",
       "dtype: int64"
      ]
     },
     "execution_count": 20,
     "metadata": {},
     "output_type": "execute_result"
    }
   ],
   "source": [
    "data.isnull().sum()"
   ]
  },
  {
   "cell_type": "code",
   "execution_count": 21,
   "metadata": {},
   "outputs": [
    {
     "data": {
      "text/html": [
       "<div>\n",
       "<style scoped>\n",
       "    .dataframe tbody tr th:only-of-type {\n",
       "        vertical-align: middle;\n",
       "    }\n",
       "\n",
       "    .dataframe tbody tr th {\n",
       "        vertical-align: top;\n",
       "    }\n",
       "\n",
       "    .dataframe thead th {\n",
       "        text-align: right;\n",
       "    }\n",
       "</style>\n",
       "<table border=\"1\" class=\"dataframe\">\n",
       "  <thead>\n",
       "    <tr style=\"text-align: right;\">\n",
       "      <th></th>\n",
       "      <th>subreddit</th>\n",
       "      <th>post</th>\n",
       "    </tr>\n",
       "  </thead>\n",
       "  <tbody>\n",
       "    <tr>\n",
       "      <td>0</td>\n",
       "      <td>1.0</td>\n",
       "      <td>looking for a specific non-linear function of ...</td>\n",
       "    </tr>\n",
       "    <tr>\n",
       "      <td>1</td>\n",
       "      <td>1.0</td>\n",
       "      <td>Pattern recognition in Trig Substitution based...</td>\n",
       "    </tr>\n",
       "    <tr>\n",
       "      <td>2</td>\n",
       "      <td>1.0</td>\n",
       "      <td>No clue how to solve this please help! :) I am...</td>\n",
       "    </tr>\n",
       "    <tr>\n",
       "      <td>3</td>\n",
       "      <td>1.0</td>\n",
       "      <td>Why cant my mind understand math? Hi\\n\\nI have...</td>\n",
       "    </tr>\n",
       "    <tr>\n",
       "      <td>4</td>\n",
       "      <td>1.0</td>\n",
       "      <td>I haven't touched math in over a year.. As the...</td>\n",
       "    </tr>\n",
       "    <tr>\n",
       "      <td>...</td>\n",
       "      <td>...</td>\n",
       "      <td>...</td>\n",
       "    </tr>\n",
       "    <tr>\n",
       "      <td>179809</td>\n",
       "      <td>0.0</td>\n",
       "      <td>Does anyone know where I can get a font with m...</td>\n",
       "    </tr>\n",
       "    <tr>\n",
       "      <td>179810</td>\n",
       "      <td>0.0</td>\n",
       "      <td>If light is the quanta of electromagnetism, wo...</td>\n",
       "    </tr>\n",
       "    <tr>\n",
       "      <td>179811</td>\n",
       "      <td>0.0</td>\n",
       "      <td>please explain the different philosophical imp...</td>\n",
       "    </tr>\n",
       "    <tr>\n",
       "      <td>179812</td>\n",
       "      <td>0.0</td>\n",
       "      <td>Why is it difficult to gauge the speed of an i...</td>\n",
       "    </tr>\n",
       "    <tr>\n",
       "      <td>179813</td>\n",
       "      <td>0.0</td>\n",
       "      <td>How does the applied voltage across a photomul...</td>\n",
       "    </tr>\n",
       "  </tbody>\n",
       "</table>\n",
       "<p>162374 rows × 2 columns</p>\n",
       "</div>"
      ],
      "text/plain": [
       "        subreddit                                               post\n",
       "0             1.0  looking for a specific non-linear function of ...\n",
       "1             1.0  Pattern recognition in Trig Substitution based...\n",
       "2             1.0  No clue how to solve this please help! :) I am...\n",
       "3             1.0  Why cant my mind understand math? Hi\\n\\nI have...\n",
       "4             1.0  I haven't touched math in over a year.. As the...\n",
       "...           ...                                                ...\n",
       "179809        0.0  Does anyone know where I can get a font with m...\n",
       "179810        0.0  If light is the quanta of electromagnetism, wo...\n",
       "179811        0.0  please explain the different philosophical imp...\n",
       "179812        0.0  Why is it difficult to gauge the speed of an i...\n",
       "179813        0.0  How does the applied voltage across a photomul...\n",
       "\n",
       "[162374 rows x 2 columns]"
      ]
     },
     "execution_count": 21,
     "metadata": {},
     "output_type": "execute_result"
    }
   ],
   "source": [
    "data   # Final version of data"
   ]
  },
  {
   "cell_type": "code",
   "execution_count": 22,
   "metadata": {},
   "outputs": [],
   "source": [
    "data.to_csv('data/data.csv', index=False)    # Saving our data"
   ]
  },
  {
   "cell_type": "markdown",
   "metadata": {},
   "source": [
    "#### Checking max lenght of posts"
   ]
  },
  {
   "cell_type": "code",
   "execution_count": 23,
   "metadata": {},
   "outputs": [],
   "source": [
    "df = data"
   ]
  },
  {
   "cell_type": "code",
   "execution_count": 24,
   "metadata": {},
   "outputs": [
    {
     "data": {
      "text/html": [
       "<div>\n",
       "<style scoped>\n",
       "    .dataframe tbody tr th:only-of-type {\n",
       "        vertical-align: middle;\n",
       "    }\n",
       "\n",
       "    .dataframe tbody tr th {\n",
       "        vertical-align: top;\n",
       "    }\n",
       "\n",
       "    .dataframe thead th {\n",
       "        text-align: right;\n",
       "    }\n",
       "</style>\n",
       "<table border=\"1\" class=\"dataframe\">\n",
       "  <thead>\n",
       "    <tr style=\"text-align: right;\">\n",
       "      <th></th>\n",
       "      <th>subreddit</th>\n",
       "      <th>post</th>\n",
       "      <th>text_characters</th>\n",
       "      <th>text_words</th>\n",
       "    </tr>\n",
       "  </thead>\n",
       "  <tbody>\n",
       "    <tr>\n",
       "      <td>1819</td>\n",
       "      <td>1.0</td>\n",
       "      <td>Might Have Stumbled On Something New For Prime...</td>\n",
       "      <td>28123</td>\n",
       "      <td>7867</td>\n",
       "    </tr>\n",
       "    <tr>\n",
       "      <td>99743</td>\n",
       "      <td>0.0</td>\n",
       "      <td>The Analog Universe Part 2 **Light: Waves or P...</td>\n",
       "      <td>39822</td>\n",
       "      <td>6582</td>\n",
       "    </tr>\n",
       "    <tr>\n",
       "      <td>107287</td>\n",
       "      <td>0.0</td>\n",
       "      <td>A Conscious Universe by Saul Celere      A Con...</td>\n",
       "      <td>36043</td>\n",
       "      <td>5987</td>\n",
       "    </tr>\n",
       "    <tr>\n",
       "      <td>99742</td>\n",
       "      <td>0.0</td>\n",
       "      <td>The Analog Universe **Abstract**\\n\\nIt is comm...</td>\n",
       "      <td>33707</td>\n",
       "      <td>5479</td>\n",
       "    </tr>\n",
       "    <tr>\n",
       "      <td>17571</td>\n",
       "      <td>1.0</td>\n",
       "      <td>Legacy of the Ancients                        ...</td>\n",
       "      <td>29716</td>\n",
       "      <td>4780</td>\n",
       "    </tr>\n",
       "    <tr>\n",
       "      <td>42015</td>\n",
       "      <td>1.0</td>\n",
       "      <td>Calculus and Backpropagation I'm a \"student\" o...</td>\n",
       "      <td>29808</td>\n",
       "      <td>4385</td>\n",
       "    </tr>\n",
       "    <tr>\n",
       "      <td>95403</td>\n",
       "      <td>0.0</td>\n",
       "      <td>Physics &amp;amp; the user The patterns that revea...</td>\n",
       "      <td>24732</td>\n",
       "      <td>4220</td>\n",
       "    </tr>\n",
       "    <tr>\n",
       "      <td>9347</td>\n",
       "      <td>1.0</td>\n",
       "      <td>I want to share what I've done during my depre...</td>\n",
       "      <td>25509</td>\n",
       "      <td>4152</td>\n",
       "    </tr>\n",
       "    <tr>\n",
       "      <td>96668</td>\n",
       "      <td>0.0</td>\n",
       "      <td>QED 4321/b  \\nTom Thistlethwaite 分享了帖子  \\n10 月...</td>\n",
       "      <td>23639</td>\n",
       "      <td>4067</td>\n",
       "    </tr>\n",
       "    <tr>\n",
       "      <td>10236</td>\n",
       "      <td>1.0</td>\n",
       "      <td>Interview with Hao Wang and Robin Gandy (Any e...</td>\n",
       "      <td>20370</td>\n",
       "      <td>3631</td>\n",
       "    </tr>\n",
       "  </tbody>\n",
       "</table>\n",
       "</div>"
      ],
      "text/plain": [
       "        subreddit                                               post  \\\n",
       "1819          1.0  Might Have Stumbled On Something New For Prime...   \n",
       "99743         0.0  The Analog Universe Part 2 **Light: Waves or P...   \n",
       "107287        0.0  A Conscious Universe by Saul Celere      A Con...   \n",
       "99742         0.0  The Analog Universe **Abstract**\\n\\nIt is comm...   \n",
       "17571         1.0  Legacy of the Ancients                        ...   \n",
       "42015         1.0  Calculus and Backpropagation I'm a \"student\" o...   \n",
       "95403         0.0  Physics &amp; the user The patterns that revea...   \n",
       "9347          1.0  I want to share what I've done during my depre...   \n",
       "96668         0.0  QED 4321/b  \\nTom Thistlethwaite 分享了帖子  \\n10 月...   \n",
       "10236         1.0  Interview with Hao Wang and Robin Gandy (Any e...   \n",
       "\n",
       "        text_characters  text_words  \n",
       "1819              28123        7867  \n",
       "99743             39822        6582  \n",
       "107287            36043        5987  \n",
       "99742             33707        5479  \n",
       "17571             29716        4780  \n",
       "42015             29808        4385  \n",
       "95403             24732        4220  \n",
       "9347              25509        4152  \n",
       "96668             23639        4067  \n",
       "10236             20370        3631  "
      ]
     },
     "execution_count": 24,
     "metadata": {},
     "output_type": "execute_result"
    }
   ],
   "source": [
    "# Creating a column on the character counts (Code by Brenda Hali)\n",
    "df['text_characters'] = df['post'].apply(len)\n",
    "df['text_words'] = df['post'].apply(lambda x: len(x.split()))\n",
    "df.sort_values('text_words', ascending=False).head(10)"
   ]
  }
 ],
 "metadata": {
  "kernelspec": {
   "display_name": "Python [conda env:dsi] *",
   "language": "python",
   "name": "conda-env-dsi-py"
  },
  "language_info": {
   "codemirror_mode": {
    "name": "ipython",
    "version": 3
   },
   "file_extension": ".py",
   "mimetype": "text/x-python",
   "name": "python",
   "nbconvert_exporter": "python",
   "pygments_lexer": "ipython3",
   "version": "3.7.4"
  }
 },
 "nbformat": 4,
 "nbformat_minor": 2
}
